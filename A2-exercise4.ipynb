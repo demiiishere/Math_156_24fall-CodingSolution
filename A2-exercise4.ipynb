{
 "cells": [
  {
   "cell_type": "markdown",
   "metadata": {},
   "source": [
    "## Linear Regression on Wine Dataset"
   ]
  },
  {
   "cell_type": "markdown",
   "metadata": {},
   "source": [
    "#### 1. Download the dataset."
   ]
  },
  {
   "cell_type": "code",
   "execution_count": 216,
   "metadata": {},
   "outputs": [
    {
     "name": "stdout",
     "output_type": "stream",
     "text": [
      "Requirement already satisfied: ucimlrepo in /Users/zhujiatong/anaconda3/lib/python3.11/site-packages (0.0.7)\n",
      "Requirement already satisfied: pandas>=1.0.0 in /Users/zhujiatong/anaconda3/lib/python3.11/site-packages (from ucimlrepo) (2.1.4)\n",
      "Requirement already satisfied: certifi>=2020.12.5 in /Users/zhujiatong/anaconda3/lib/python3.11/site-packages (from ucimlrepo) (2024.2.2)\n",
      "Requirement already satisfied: numpy<2,>=1.23.2 in /Users/zhujiatong/anaconda3/lib/python3.11/site-packages (from pandas>=1.0.0->ucimlrepo) (1.26.4)\n",
      "Requirement already satisfied: python-dateutil>=2.8.2 in /Users/zhujiatong/anaconda3/lib/python3.11/site-packages (from pandas>=1.0.0->ucimlrepo) (2.8.2)\n",
      "Requirement already satisfied: pytz>=2020.1 in /Users/zhujiatong/anaconda3/lib/python3.11/site-packages (from pandas>=1.0.0->ucimlrepo) (2023.3.post1)\n",
      "Requirement already satisfied: tzdata>=2022.1 in /Users/zhujiatong/anaconda3/lib/python3.11/site-packages (from pandas>=1.0.0->ucimlrepo) (2023.3)\n",
      "Requirement already satisfied: six>=1.5 in /Users/zhujiatong/anaconda3/lib/python3.11/site-packages (from python-dateutil>=2.8.2->pandas>=1.0.0->ucimlrepo) (1.16.0)\n",
      "Note: you may need to restart the kernel to use updated packages.\n"
     ]
    }
   ],
   "source": [
    "# install ucimlrepo to load the dataset\n",
    "%pip install ucimlrepo"
   ]
  },
  {
   "cell_type": "code",
   "execution_count": 217,
   "metadata": {},
   "outputs": [],
   "source": [
    "# the following code is credit to https://archive.ics.uci.edu/dataset/186/wine+quality\n",
    "from ucimlrepo import fetch_ucirepo \n",
    "  \n",
    "# fetch dataset \n",
    "wine_quality = fetch_ucirepo(id=186) \n",
    "  \n",
    "# data (as pandas dataframes) \n",
    "X = wine_quality.data.features \n",
    "y = wine_quality.data.targets "
   ]
  },
  {
   "cell_type": "code",
   "execution_count": 218,
   "metadata": {},
   "outputs": [],
   "source": [
    "# convert the dataframe to numpy array\n",
    "X = X.to_numpy()\n",
    "y = y.to_numpy()"
   ]
  },
  {
   "cell_type": "code",
   "execution_count": 219,
   "metadata": {},
   "outputs": [
    {
     "name": "stdout",
     "output_type": "stream",
     "text": [
      "[[7.400e+00 7.000e-01 0.000e+00 1.900e+00 7.600e-02 1.100e+01 3.400e+01\n",
      "  9.978e-01 3.510e+00 5.600e-01 9.400e+00]\n",
      " [7.800e+00 8.800e-01 0.000e+00 2.600e+00 9.800e-02 2.500e+01 6.700e+01\n",
      "  9.968e-01 3.200e+00 6.800e-01 9.800e+00]\n",
      " [7.800e+00 7.600e-01 4.000e-02 2.300e+00 9.200e-02 1.500e+01 5.400e+01\n",
      "  9.970e-01 3.260e+00 6.500e-01 9.800e+00]\n",
      " [1.120e+01 2.800e-01 5.600e-01 1.900e+00 7.500e-02 1.700e+01 6.000e+01\n",
      "  9.980e-01 3.160e+00 5.800e-01 9.800e+00]\n",
      " [7.400e+00 7.000e-01 0.000e+00 1.900e+00 7.600e-02 1.100e+01 3.400e+01\n",
      "  9.978e-01 3.510e+00 5.600e-01 9.400e+00]]\n",
      "\n",
      "\n",
      "[[5]\n",
      " [5]\n",
      " [5]\n",
      " [6]\n",
      " [5]\n",
      " [5]\n",
      " [5]\n",
      " [7]\n",
      " [7]\n",
      " [5]]\n"
     ]
    }
   ],
   "source": [
    "# check the shape of X and y\n",
    "print(X[:5])\n",
    "print('\\n')\n",
    "print(y[:10])"
   ]
  },
  {
   "cell_type": "markdown",
   "metadata": {},
   "source": [
    "#### 2. Split the dataset into train, validation, and test sets."
   ]
  },
  {
   "cell_type": "code",
   "execution_count": 220,
   "metadata": {},
   "outputs": [
    {
     "name": "stdout",
     "output_type": "stream",
     "text": [
      "number of training data: 5197\n",
      "number of validation data: 650\n",
      "number of test data: 650\n"
     ]
    }
   ],
   "source": [
    "import pandas as pd\n",
    "from sklearn.model_selection import train_test_split\n",
    "import numpy as np\n",
    "# split the data into train:validation:test = 8:1:1\n",
    "X_train, X_temp, y_train, y_temp = train_test_split(X, y, train_size = 0.8, random_state=23)\n",
    "X_val, X_test, y_val, y_test = train_test_split(X_temp, y_temp, train_size = 0.5, random_state=23)\n",
    "\n",
    "# check the result\n",
    "print(f'number of training data: {len(X_train)}')\n",
    "print(f'number of validation data: {len(X_val)}')\n",
    "print(f'number of test data: {len(X_test)}')\n",
    "\n",
    "# check if the data and target length fits\n",
    "assert len(X_train) == len(y_train)\n",
    "assert len(X_val) == len(y_val)\n",
    "assert len(X_test) == len(y_test)"
   ]
  },
  {
   "cell_type": "markdown",
   "metadata": {},
   "source": [
    "#### 3. Train a simple linear regression model with sum-of-squares error function using the closed-form solution."
   ]
  },
  {
   "cell_type": "markdown",
   "metadata": {},
   "source": [
    "If the plane is $y = \\beta X$, the closed form for $\\beta$ is \n",
    "$$\\beta = (X^TX)^{-1} X^T y$$"
   ]
  },
  {
   "cell_type": "markdown",
   "metadata": {},
   "source": [
    "We should further consider the bias, so we do concatanate 1 for every training sample to involve the bias term. "
   ]
  },
  {
   "cell_type": "code",
   "execution_count": 221,
   "metadata": {},
   "outputs": [],
   "source": [
    "def add_one(x):\n",
    "    return np.concatenate([np.ones(shape=(len(x), 1)), x], axis=1)"
   ]
  },
  {
   "cell_type": "markdown",
   "metadata": {},
   "source": [
    "Then we define the Linear Regression Model."
   ]
  },
  {
   "cell_type": "code",
   "execution_count": 222,
   "metadata": {},
   "outputs": [],
   "source": [
    "class LR:\n",
    "    def __init__(self):\n",
    "        self.beta = None\n",
    "    # calculate beta with the closed form \n",
    "    def fit(self, X, y):\n",
    "        X = add_one(X)\n",
    "        self.beta = np.linalg.inv(X.T @ X) @X.T @ y\n",
    "        # print(self.beta)\n",
    "    # make prediction of the validation set or test set\n",
    "    def predict(self, X_test):\n",
    "        X_test = add_one(X_test)\n",
    "        # the if function is credict to Colin, notifying \n",
    "        # that the fit function should be run first\n",
    "        if self.beta is None:\n",
    "            raise ValueError('Fit the LR model before predicting.')    \n",
    "        return X_test @ self.beta    \n",
    "\n",
    "model = LR()"
   ]
  },
  {
   "cell_type": "code",
   "execution_count": 223,
   "metadata": {},
   "outputs": [],
   "source": [
    "model.fit(X_train, y_train)\n",
    "# make prediction on the validation set\n",
    "y_train_pred = model.predict(X_train)\n",
    "y_val_pred = model.predict(X_val)\n",
    "y_test_pred = model.predict(X_test)\n"
   ]
  },
  {
   "cell_type": "markdown",
   "metadata": {},
   "source": [
    "#### 4. Generate a plot of the actual target values vs predicted target values for training set."
   ]
  },
  {
   "cell_type": "code",
   "execution_count": 224,
   "metadata": {},
   "outputs": [
    {
     "data": {
      "image/png": "[encoded data removed]",
      "text/plain": [
       "<Figure size 640x480 with 1 Axes>"
      ]
     },
     "metadata": {},
     "output_type": "display_data"
    }
   ],
   "source": [
    "import matplotlib.pyplot as plt\n",
    "\n",
    "# plot the scatter of actual data and predicted data\n",
    "plt.scatter(y_train, y_train_pred)\n",
    "plt.xlabel('Actual')\n",
    "plt.ylabel('Predicted')\n",
    "plt.title('Actual vs Predicted on training data')\n",
    "plt.show()"
   ]
  },
  {
   "cell_type": "markdown",
   "metadata": {},
   "source": [
    "- Interpretation: We can see that the actual target is discrete, while the predicted target is continuous and most of the prediction does not match the actual one. For every actual target, its prediction error always range from 0 to 3. Also the minimum predicted value is 4, the maximum is 7.5. So the model cannot correctly predict the target when its actual value is 3, 8 and 9. \n",
    "\n",
    "- That's probably because the data and target does not follow a linear relationship. So the simple LR does not work well.\n"
   ]
  },
  {
   "cell_type": "markdown",
   "metadata": {},
   "source": [
    "#### 5. Report the MSE of train and test set."
   ]
  },
  {
   "cell_type": "code",
   "execution_count": 225,
   "metadata": {},
   "outputs": [],
   "source": [
    "# calculate the mean square error\n",
    "def RMSE(y_true, y_pred):\n",
    "    diff = y_true-y_pred\n",
    "    square_error = diff.T @ diff\n",
    "    regularized = square_error / len(y_true)\n",
    "    rooted = np.sqrt(regularized)\n",
    "    return rooted"
   ]
  },
  {
   "cell_type": "code",
   "execution_count": 227,
   "metadata": {},
   "outputs": [
    {
     "name": "stdout",
     "output_type": "stream",
     "text": [
      "RMSE of train set: [[0.74242331]]\n",
      "RMSE of test set: [[0.69274337]]\n"
     ]
    }
   ],
   "source": [
    "print(f'RMSE of train set: {RMSE(y_train, y_train_pred)}')\n",
    "print(f'RMSE of test set: {RMSE(y_test, y_test_pred)}')"
   ]
  },
  {
   "cell_type": "markdown",
   "metadata": {},
   "source": [
    "#### 6.Implement the least-mean-squares (LMS) algorithm for linear regression with random initialization of $w(0)$ and stepsize($s$)"
   ]
  },
  {
   "cell_type": "code",
   "execution_count": 228,
   "metadata": {},
   "outputs": [
    {
     "name": "stdout",
     "output_type": "stream",
     "text": [
      "(6497, 11)\n",
      "(6497, 1)\n"
     ]
    }
   ],
   "source": [
    "print(X.shape)\n",
    "print(y.shape)"
   ]
  },
  {
   "cell_type": "code",
   "execution_count": 229,
   "metadata": {},
   "outputs": [],
   "source": [
    "import numpy as np\n",
    "from sklearn.preprocessing import StandardScaler\n",
    "\n",
    "class LMSLinearRegression:\n",
    "    def __init__(self, stepsize=0.01, max_iter=2000):\n",
    "\n",
    "        self.stepsize = stepsize\n",
    "        self.max_iter = max_iter\n",
    "        self.beta = None\n",
    "        # scales the data to 0 mean and unit variance to avoid overflow\n",
    "        self.scaler = StandardScaler()  \n",
    "\n",
    "    def fit(self, X, y):\n",
    "        X = self.scaler.fit_transform(X)\n",
    "        X = add_one(X)\n",
    "        np.random.seed(23)\n",
    "        self.beta = np.random.randn(X.shape[1])\n",
    "        for i in range(self.max_iter):\n",
    "            predictions = X @ self.beta\n",
    "            # convert the shape of y from (5197,1) to (5197,) to match with predictions\n",
    "            y = y.flatten()\n",
    "            error = y - predictions\n",
    "            gradient = -2 * X.T @ error/ X.shape[0]\n",
    "            self.beta -= self.stepsize * gradient\n",
    "    \n",
    "    def predict(self, X):\n",
    "        X = self.scaler.transform(X)\n",
    "        X = add_one(X)\n",
    "        return X @ self.beta\n"
   ]
  },
  {
   "cell_type": "markdown",
   "metadata": {},
   "source": [
    "#### 7. Report the root-mean-square on the train and test sets"
   ]
  },
  {
   "cell_type": "code",
   "execution_count": 230,
   "metadata": {},
   "outputs": [],
   "source": [
    "# train the model and do predictions\n",
    "model = LMSLinearRegression(stepsize=0.05, max_iter=2000)\n",
    "model.fit(X_train, y_train)\n",
    "\n",
    "y_train_pred_lms = model.predict(X_train)\n",
    "y_test_pred_lms = model.predict(X_test)\n",
    "y_val_pred_lms = model.predict(X_val)\n",
    "# the shape of every y_pred after lms LR is (5197,)\n",
    "# we need to change it to (5197,1) to fit the RMSE function\n",
    "y_train_pred_lms = y_train_pred_lms.reshape(-1, 1)\n",
    "y_test_pred_lms = y_test_pred_lms.reshape(-1, 1)\n",
    "y_val_pred_lms = y_val_pred_lms.reshape(-1, 1)\n"
   ]
  },
  {
   "cell_type": "code",
   "execution_count": 231,
   "metadata": {},
   "outputs": [
    {
     "name": "stdout",
     "output_type": "stream",
     "text": [
      "RMSE of validation set: [[0.71572562]]\n"
     ]
    }
   ],
   "source": [
    "'''\n",
    "having the RMSE of validation set, we can further fintune our model, \n",
    "change the max_iter and stepsize to maximize its performance\n",
    "'''\n",
    "print(f'RMSE of validation set: {RMSE(y_val, y_val_pred_lms)}')\n",
    "\n"
   ]
  },
  {
   "cell_type": "markdown",
   "metadata": {},
   "source": [
    "RMSE of validation set: \n",
    "| stepsize | max_iteration |   RMSE    |\n",
    "|----------|---------------|-----------|\n",
    "|   0.01   |     1000      | 0.72622828|\n",
    "|   0.02   |     1000      | 0.71904971|\n",
    "|   0.05   |     1000      | 0.71589669|\n",
    "|   0.05   |     2000      | 0.71572562|\n",
    "|   0.05   |     3000      | 0.71572097|"
   ]
  },
  {
   "cell_type": "markdown",
   "metadata": {},
   "source": [
    "Thus we choose stepsize=0.05, max_iteration=2000 as the hyperparameter. "
   ]
  },
  {
   "cell_type": "code",
   "execution_count": 232,
   "metadata": {},
   "outputs": [
    {
     "name": "stdout",
     "output_type": "stream",
     "text": [
      "RMSE of train set: [[0.74242336]]\n",
      "RMSE of test set: [[0.69274179]]\n"
     ]
    }
   ],
   "source": [
    "print(f'RMSE of train set: {RMSE(y_train, y_train_pred_lms)}')\n",
    "print(f'RMSE of test set: {RMSE(y_test, y_test_pred_lms)}')\n"
   ]
  },
  {
   "cell_type": "markdown",
   "metadata": {},
   "source": [
    "We can see that it has similar performance with the closed form solution."
   ]
  }
 ],
 "metadata": {
  "kernelspec": {
   "display_name": "base",
   "language": "python",
   "name": "python3"
  },
  "language_info": {
   "codemirror_mode": {
    "name": "ipython",
    "version": 3
   },
   "file_extension": ".py",
   "mimetype": "text/x-python",
   "name": "python",
   "nbconvert_exporter": "python",
   "pygments_lexer": "ipython3",
   "version": "3.11.8"
  }
 },
 "nbformat": 4,
 "nbformat_minor": 2
}
